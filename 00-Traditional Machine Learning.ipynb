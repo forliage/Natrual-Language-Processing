{
 "cells": [
  {
   "cell_type": "markdown",
   "id": "d38d1222",
   "metadata": {},
   "source": [
    "It seems that the traditional machine learning content does not be included in the lecture, so I'd like to add this part myself.\n",
    "\n",
    "The main content I want to do is PDA and LDA and so on."
   ]
  }
 ],
 "metadata": {
  "language_info": {
   "name": "python"
  }
 },
 "nbformat": 4,
 "nbformat_minor": 5
}
